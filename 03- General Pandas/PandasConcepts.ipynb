{
 "cells": [
  {
   "cell_type": "code",
   "execution_count": 11,
   "metadata": {},
   "outputs": [
    {
     "data": {
      "text/plain": [
       "1"
      ]
     },
     "execution_count": 11,
     "metadata": {},
     "output_type": "execute_result"
    }
   ],
   "source": [
    "import numpy as np\n",
    "import pandas as pd\n",
    "from numpy.random import randn\n",
    "\n",
    "labels = ['a','b', 'c']\n",
    "my_list = [10, 20, 30]\n",
    "arr = np.array([10, 20, 30])\n",
    "d = {'a' : 10, 'b' : 20,  'c': 100}\n",
    "(pd.Series(my_list, index = labels))\n",
    "(pd.Series(arr, labels))\n",
    "(pd.Series(d))\n",
    "(pd.Series(data=labels))\n",
    "([sum, print, len])\n",
    "ser1 = pd.Series(data = [1, 2, 3, 4], index = ['USA','CHINA','FRANCE','GERMANY'])\n",
    "ser1 = pd.Series(data = [1, 2, 3, 4], index = ['USA','CHINA','ITALY','JAPAN'])\n",
    "ser1['USA']"
   ]
  },
  {
   "cell_type": "code",
   "execution_count": 86,
   "metadata": {},
   "outputs": [
    {
     "data": {
      "text/html": [
       "<div>\n",
       "<style scoped>\n",
       "    .dataframe tbody tr th:only-of-type {\n",
       "        vertical-align: middle;\n",
       "    }\n",
       "\n",
       "    .dataframe tbody tr th {\n",
       "        vertical-align: top;\n",
       "    }\n",
       "\n",
       "    .dataframe thead th {\n",
       "        text-align: right;\n",
       "    }\n",
       "</style>\n",
       "<table border=\"1\" class=\"dataframe\">\n",
       "  <thead>\n",
       "    <tr style=\"text-align: right;\">\n",
       "      <th></th>\n",
       "      <th>W</th>\n",
       "      <th>Y</th>\n",
       "    </tr>\n",
       "  </thead>\n",
       "  <tbody>\n",
       "    <tr>\n",
       "      <th>A</th>\n",
       "      <td>0.234749</td>\n",
       "      <td>-0.971749</td>\n",
       "    </tr>\n",
       "    <tr>\n",
       "      <th>B</th>\n",
       "      <td>-1.037538</td>\n",
       "      <td>0.375857</td>\n",
       "    </tr>\n",
       "  </tbody>\n",
       "</table>\n",
       "</div>"
      ],
      "text/plain": [
       "          W         Y\n",
       "A  0.234749 -0.971749\n",
       "B -1.037538  0.375857"
      ]
     },
     "execution_count": 86,
     "metadata": {},
     "output_type": "execute_result"
    }
   ],
   "source": [
    "df = pd.DataFrame(randn(5, 4), ['A', 'B', 'C', 'D', 'E'], ['W','X','Y','Z'])\n",
    "(df) \n",
    "(df['W'])  # get the column\n",
    "(df[ ['W', 'Z'] ]) \n",
    "df['new'] = df['W'] + df['Y'] \n",
    "df.drop('new', axis = 1, inplace = True) # inplace altera o dataframe \n",
    "df.drop('E') \n",
    "df.loc['A'] # get the row\n",
    "df.iloc[2] # get the row numeric way\n",
    "df.loc['B', 'Y'] # specific location\n",
    "df.loc[['A', 'B'], ['W', 'Y']]"
   ]
  },
  {
   "cell_type": "code",
   "execution_count": 87,
   "metadata": {},
   "outputs": [
    {
     "data": {
      "text/html": [
       "<div>\n",
       "<style scoped>\n",
       "    .dataframe tbody tr th:only-of-type {\n",
       "        vertical-align: middle;\n",
       "    }\n",
       "\n",
       "    .dataframe tbody tr th {\n",
       "        vertical-align: top;\n",
       "    }\n",
       "\n",
       "    .dataframe thead th {\n",
       "        text-align: right;\n",
       "    }\n",
       "</style>\n",
       "<table border=\"1\" class=\"dataframe\">\n",
       "  <thead>\n",
       "    <tr style=\"text-align: right;\">\n",
       "      <th></th>\n",
       "      <th>W</th>\n",
       "      <th>X</th>\n",
       "      <th>Y</th>\n",
       "      <th>Z</th>\n",
       "    </tr>\n",
       "    <tr>\n",
       "      <th>States</th>\n",
       "      <th></th>\n",
       "      <th></th>\n",
       "      <th></th>\n",
       "      <th></th>\n",
       "    </tr>\n",
       "  </thead>\n",
       "  <tbody>\n",
       "    <tr>\n",
       "      <th>CA</th>\n",
       "      <td>0.234749</td>\n",
       "      <td>-1.460650</td>\n",
       "      <td>-0.971749</td>\n",
       "      <td>1.132433</td>\n",
       "    </tr>\n",
       "    <tr>\n",
       "      <th>NY</th>\n",
       "      <td>-1.037538</td>\n",
       "      <td>-0.497083</td>\n",
       "      <td>0.375857</td>\n",
       "      <td>0.946224</td>\n",
       "    </tr>\n",
       "    <tr>\n",
       "      <th>WO</th>\n",
       "      <td>-0.075853</td>\n",
       "      <td>-0.196879</td>\n",
       "      <td>0.832910</td>\n",
       "      <td>0.216291</td>\n",
       "    </tr>\n",
       "    <tr>\n",
       "      <th>OR</th>\n",
       "      <td>-0.682547</td>\n",
       "      <td>1.990721</td>\n",
       "      <td>0.935605</td>\n",
       "      <td>-0.420166</td>\n",
       "    </tr>\n",
       "    <tr>\n",
       "      <th>CO</th>\n",
       "      <td>0.082576</td>\n",
       "      <td>0.080061</td>\n",
       "      <td>0.898347</td>\n",
       "      <td>0.324365</td>\n",
       "    </tr>\n",
       "  </tbody>\n",
       "</table>\n",
       "</div>"
      ],
      "text/plain": [
       "               W         X         Y         Z\n",
       "States                                        \n",
       "CA      0.234749 -1.460650 -0.971749  1.132433\n",
       "NY     -1.037538 -0.497083  0.375857  0.946224\n",
       "WO     -0.075853 -0.196879  0.832910  0.216291\n",
       "OR     -0.682547  1.990721  0.935605 -0.420166\n",
       "CO      0.082576  0.080061  0.898347  0.324365"
      ]
     },
     "execution_count": 87,
     "metadata": {},
     "output_type": "execute_result"
    }
   ],
   "source": [
    "booldf = df > 0\n",
    "df[booldf]\n",
    "df[df > 0]\n",
    "df['W'] > 0 # filter the rows \n",
    "df[ df['W'] > 0] # ALL the ROWS that has W > 0\n",
    "df[df['Z'] < 0]\n",
    "df[ (df['Z'] < 0) | (df['W'] > 0) ]\n",
    "df.reset_index() #reset to numeric value\n",
    "newind = 'CA NY WO OR CO'.split()\n",
    "df['States'] = newind # create a new columns / series\n",
    "df.set_index('States') # create a row from the columns\n"
   ]
  },
  {
   "cell_type": "code",
   "execution_count": null,
   "metadata": {},
   "outputs": [],
   "source": [
    "# Index Levels\n",
    "\n",
    "outside = ['G1','G1','G1','G2','G2','G2']\n",
    "inside = [1,2,3,1,2,3]\n",
    "hier_index = list(zip(outside,inside))\n",
    "hier_index = pd.MultiIndex.from_tuples(hier_index)"
   ]
  },
  {
   "cell_type": "code",
   "execution_count": null,
   "metadata": {},
   "outputs": [],
   "source": []
  },
  {
   "cell_type": "code",
   "execution_count": null,
   "metadata": {},
   "outputs": [],
   "source": []
  },
  {
   "cell_type": "code",
   "execution_count": null,
   "metadata": {},
   "outputs": [],
   "source": []
  }
 ],
 "metadata": {
  "kernelspec": {
   "display_name": "Python 3",
   "language": "python",
   "name": "python3"
  },
  "language_info": {
   "codemirror_mode": {
    "name": "ipython",
    "version": 3
   },
   "file_extension": ".py",
   "mimetype": "text/x-python",
   "name": "python",
   "nbconvert_exporter": "python",
   "pygments_lexer": "ipython3",
   "version": "3.8.5"
  }
 },
 "nbformat": 4,
 "nbformat_minor": 4
}
